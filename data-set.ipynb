{
 "cells": [
  {
   "cell_type": "code",
   "execution_count": 31,
   "metadata": {},
   "outputs": [],
   "source": [
    "import matplotlib.pyplot as plt\n",
    "import numpy as np\n",
    "import pandas as pd\n",
    "import seaborn as sns"
   ]
  },
  {
   "cell_type": "code",
   "execution_count": 3,
   "metadata": {},
   "outputs": [
    {
     "ename": "NameError",
     "evalue": "name 'pd' is not defined",
     "output_type": "error",
     "traceback": [
      "\u001b[1;31m---------------------------------------------------------------------------\u001b[0m",
      "\u001b[1;31mNameError\u001b[0m                                 Traceback (most recent call last)",
      "Cell \u001b[1;32mIn[3], line 2\u001b[0m\n\u001b[0;32m      1\u001b[0m \u001b[39mimport\u001b[39;00m \u001b[39mcsv\u001b[39;00m\n\u001b[1;32m----> 2\u001b[0m df \u001b[39m=\u001b[39m pd\u001b[39m.\u001b[39mread_csv(\u001b[39m'\u001b[39m\u001b[39minfo-rrhh-por-genero.csv\u001b[39m\u001b[39m'\u001b[39m, header \u001b[39m=\u001b[39m \u001b[39mNone\u001b[39;00m, delimiter\u001b[39m=\u001b[39m\u001b[39m\"\u001b[39m\u001b[39m\\t\u001b[39;00m\u001b[39m\"\u001b[39m, quoting\u001b[39m=\u001b[39mcsv\u001b[39m.\u001b[39mQUOTE_NONE, encoding\u001b[39m=\u001b[39m\u001b[39m'\u001b[39m\u001b[39mutf-8\u001b[39m\u001b[39m'\u001b[39m)\n",
      "\u001b[1;31mNameError\u001b[0m: name 'pd' is not defined"
     ]
    }
   ],
   "source": [
    "import csv\n",
    "df = pd.read_csv('info-rrhh-por-genero.csv', header = None, delimiter=\"\\t\", quoting=csv.QUOTE_NONE, encoding='utf-8')"
   ]
  },
  {
   "cell_type": "code",
   "execution_count": 27,
   "metadata": {},
   "outputs": [
    {
     "name": "stdout",
     "output_type": "stream",
     "text": [
      "                                                   0\n",
      "0             ;GRUPO;Jerarquia; Q Varones; Q Mujeres\n",
      "1       ;Autoridades Superiores;Jefe de Gobierno;1;0\n",
      "2     ;Autoridades Superiores;\"Vicejefe de Gobierno \n",
      "3                                              \";1;0\n",
      "4            ;Autoridades Superiores;Secretario;13;8\n",
      "5               ;Autoridades Superiores;Ministro;8;4\n",
      "6  ;Autoridades Superiores;Gerente General Sindic...\n",
      "7   ;Autoridades Superiores;Titular de Organismo;2;1\n",
      "8        ;Autoridades Superiores;Subsecretario;68;26\n",
      "9  ;Autoridades Superiores;Subdirector Gral AGIP;...\n"
     ]
    }
   ],
   "source": [
    "print(df.head(10))"
   ]
  },
  {
   "cell_type": "code",
   "execution_count": 36,
   "metadata": {},
   "outputs": [
    {
     "data": {
      "text/html": [
       "<div>\n",
       "<style scoped>\n",
       "    .dataframe tbody tr th:only-of-type {\n",
       "        vertical-align: middle;\n",
       "    }\n",
       "\n",
       "    .dataframe tbody tr th {\n",
       "        vertical-align: top;\n",
       "    }\n",
       "\n",
       "    .dataframe thead th {\n",
       "        text-align: right;\n",
       "    }\n",
       "</style>\n",
       "<table border=\"1\" class=\"dataframe\">\n",
       "  <thead>\n",
       "    <tr style=\"text-align: right;\">\n",
       "      <th></th>\n",
       "      <th>Jerarquia</th>\n",
       "      <th>HOMBRES</th>\n",
       "      <th>MUJERES</th>\n",
       "    </tr>\n",
       "  </thead>\n",
       "  <tbody>\n",
       "    <tr>\n",
       "      <th>0</th>\n",
       "      <td>Jefe de Gobierno</td>\n",
       "      <td>1</td>\n",
       "      <td>0</td>\n",
       "    </tr>\n",
       "    <tr>\n",
       "      <th>1</th>\n",
       "      <td>Vicejefe de Gobierno</td>\n",
       "      <td>1</td>\n",
       "      <td>0</td>\n",
       "    </tr>\n",
       "    <tr>\n",
       "      <th>2</th>\n",
       "      <td>Secretario</td>\n",
       "      <td>13</td>\n",
       "      <td>8</td>\n",
       "    </tr>\n",
       "    <tr>\n",
       "      <th>3</th>\n",
       "      <td>Ministro</td>\n",
       "      <td>8</td>\n",
       "      <td>4</td>\n",
       "    </tr>\n",
       "    <tr>\n",
       "      <th>4</th>\n",
       "      <td>Gerente General Sindicatura</td>\n",
       "      <td>2</td>\n",
       "      <td>2</td>\n",
       "    </tr>\n",
       "    <tr>\n",
       "      <th>5</th>\n",
       "      <td>Titular de Organismo</td>\n",
       "      <td>2</td>\n",
       "      <td>1</td>\n",
       "    </tr>\n",
       "    <tr>\n",
       "      <th>6</th>\n",
       "      <td>Subsecretario</td>\n",
       "      <td>68</td>\n",
       "      <td>26</td>\n",
       "    </tr>\n",
       "    <tr>\n",
       "      <th>7</th>\n",
       "      <td>Subdirector General AGIP</td>\n",
       "      <td>14</td>\n",
       "      <td>3</td>\n",
       "    </tr>\n",
       "    <tr>\n",
       "      <th>8</th>\n",
       "      <td>Director General</td>\n",
       "      <td>197</td>\n",
       "      <td>133</td>\n",
       "    </tr>\n",
       "    <tr>\n",
       "      <th>9</th>\n",
       "      <td>Auditor Interno</td>\n",
       "      <td>12</td>\n",
       "      <td>10</td>\n",
       "    </tr>\n",
       "    <tr>\n",
       "      <th>10</th>\n",
       "      <td>Controlador</td>\n",
       "      <td>55</td>\n",
       "      <td>78</td>\n",
       "    </tr>\n",
       "    <tr>\n",
       "      <th>11</th>\n",
       "      <td>Miembro de Junta Comunal</td>\n",
       "      <td>57</td>\n",
       "      <td>47</td>\n",
       "    </tr>\n",
       "  </tbody>\n",
       "</table>\n",
       "</div>"
      ],
      "text/plain": [
       "                      Jerarquia  HOMBRES  MUJERES\n",
       "0              Jefe de Gobierno        1        0\n",
       "1          Vicejefe de Gobierno        1        0\n",
       "2                    Secretario       13        8\n",
       "3                      Ministro        8        4\n",
       "4   Gerente General Sindicatura        2        2\n",
       "5          Titular de Organismo        2        1\n",
       "6                 Subsecretario       68       26\n",
       "7      Subdirector General AGIP       14        3\n",
       "8              Director General      197      133\n",
       "9               Auditor Interno       12       10\n",
       "10                  Controlador       55       78\n",
       "11     Miembro de Junta Comunal       57       47"
      ]
     },
     "execution_count": 36,
     "metadata": {},
     "output_type": "execute_result"
    }
   ],
   "source": [
    "\n",
    "import pandas as pd\n",
    "\n",
    "df = pd.DataFrame(\n",
    "                   data= [['Jefe de Gobierno', 1, 0],\n",
    "                        ['Vicejefe de Gobierno', 1, 0],\n",
    "                        ['Secretario', 13, 8],\n",
    "                        ['Ministro', 8, 4],\n",
    "                        ['Gerente General Sindicatura', 2, 2 ],\n",
    "                        ['Titular de Organismo', 2, 1 ],\n",
    "                        ['Subsecretario', 68, 26 ],\n",
    "                        ['Subdirector General AGIP', 14, 3],\n",
    "                        ['Director General',197, 133 ],\n",
    "                        ['Auditor Interno', 12, 10],\n",
    "                        ['Controlador', 55, 78],\n",
    "                        ['Miembro de Junta Comunal', 57, 47]],\n",
    " \n",
    "                    columns=['Jerarquia', 'HOMBRES', 'MUJERES']\n",
    "                )\n",
    "df"
   ]
  }
 ],
 "metadata": {
  "kernelspec": {
   "display_name": "Python 3",
   "language": "python",
   "name": "python3"
  },
  "language_info": {
   "codemirror_mode": {
    "name": "ipython",
    "version": 3
   },
   "file_extension": ".py",
   "mimetype": "text/x-python",
   "name": "python",
   "nbconvert_exporter": "python",
   "pygments_lexer": "ipython3",
   "version": "3.10.11"
  },
  "orig_nbformat": 4
 },
 "nbformat": 4,
 "nbformat_minor": 2
}
